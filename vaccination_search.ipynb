{
 "cells": [
  {
   "cell_type": "code",
   "execution_count": 67,
   "metadata": {},
   "outputs": [],
   "source": [
    "import pandas as pd  \n",
    "import requests\n",
    "import datetime as dt"
   ]
  },
  {
   "cell_type": "code",
   "execution_count": 175,
   "metadata": {},
   "outputs": [],
   "source": [
    "headers = {\n",
    "    'User-Agent': 'Mozilla/5.0 (X11; Ubuntu; Linux x86_64; rv:88.0) Gecko/20100101 Firefox/88.0',\n",
    "    'Accept': 'application/json',\n",
    "    'Referer': 'https://zh.vacme.ch/',\n",
    "    'Content-Type': 'application/json',\n",
    "    'Authorization': 'Bearer ***find me inbrowser netwrk tab**',\n",
    "    'Origin': 'https://zh.vacme.ch',\n",
    "}\n",
    "\n",
    "registration_id = '*** find me inbrowser netwrk tab ***'"
   ]
  },
  {
   "cell_type": "code",
   "execution_count": 176,
   "metadata": {},
   "outputs": [],
   "source": [
    "def doRequestFirstPerId(id):\n",
    "    resp = requests.post('https://zh.vacme.ch/api/v1/reg/dossier/termine/nextfrei/%s/ERSTE_IMPFUNG' % id, headers=headers)\n",
    "    return resp.json() if resp.text != '' else ''\n",
    "\n",
    "def doRequestSecondPerIdAndStart(id, nextDate):\n",
    "    data = '{\"nextDate\": \"%s\"}' % nextDate\n",
    "    resp = requests.post('https://zh.vacme.ch/api/v1/reg/dossier/termine/nextfrei/%s/ZWEITE_IMPFUNG' % id, headers=headers, data=data)\n",
    "    return resp.json() if resp.text != '' else ''\n",
    "\n",
    "def doListLocations():\n",
    "    resp = requests.get('https://zh.vacme.ch/api/v1/reg/dossier/odi/all/%s' % registration_id, headers=headers)  \n",
    "    return resp.json() if resp.text != '' else ''"
   ]
  },
  {
   "cell_type": "code",
   "execution_count": 177,
   "metadata": {},
   "outputs": [
    {
     "name": "stdout",
     "output_type": "stream",
     "text": [
      "found 0 locations\n"
     ]
    }
   ],
   "source": [
    "locations = doListLocations()\n",
    "print(\"found %s locations\" % len(locations))"
   ]
  },
  {
   "cell_type": "code",
   "execution_count": 167,
   "metadata": {},
   "outputs": [
    {
     "data": {
      "text/plain": [
       "19"
      ]
     },
     "execution_count": 167,
     "metadata": {},
     "output_type": "execute_result"
    }
   ],
   "source": [
    "nextFirstDateLocations = []\n",
    "\n",
    "for location in locations:\n",
    "  #print(\"requesting %s %s\" % (location['id'], location['name']))\n",
    "  resp = doRequestFirstPerId(location['id'])\n",
    "  if resp != '':\n",
    "    #print(location['name'] + \": \" + resp)\n",
    "    nextFirstDateLocations.append({\n",
    "        'locationId': location['id'],\n",
    "        'name' : location['name'],\n",
    "        'nextDate': resp['nextDate'],\n",
    "        'nextDateParsed': dt.datetime.strptime(resp['nextDate'], '%Y-%m-%dT%H:%M:%S')\n",
    "    })\n",
    "    \n",
    "nextFirstDateLocations.sort(key=lambda x: x['nextDateParsed'])\n",
    "len(nextFirstDateLocations)"
   ]
  },
  {
   "cell_type": "code",
   "execution_count": 168,
   "metadata": {},
   "outputs": [
    {
     "name": "stdout",
     "output_type": "stream",
     "text": [
      "2021-05-18 Zürich, Medbase Apotheke Zürich Enge\n",
      "2021-05-21 Geroldswil, Pill Apotheke im Dorf\n",
      "2021-05-22 Meilen, TopPharm Apotheke & Parfumerie Dr. Rebhan AG\n",
      "2021-05-27 Schlieren, Apotheke Dr Kunz Schlieren\n",
      "2021-05-30 Zürich, Victoria Apotheke im Circle\n",
      "2021-05-31 Regensdorf, Toppharm Zentrums Apotheke\n",
      "2021-06-02 Zollikon, Apotheke Zollikon\n",
      "2021-06-03 Horgen, Toppharm Apotheke zum Erzberg A&A medical AG\n",
      "2021-06-03 _Impfzentrum Wetzikon\n",
      "2021-06-05 Zürich, TopPharm Limmatplatz Apotheke\n",
      "2021-06-08 _Impfzentrum Triemli Zürich\n",
      "2021-06-08 _Impfzentrum Messe Zürich\n",
      "2021-06-08 Zürich, Medbase Apotheke Zürich Industrie\n",
      "2021-06-09 Zürich, Medbase Apotheke Zürich Nord\n",
      "2021-06-10 Winterthur, Rathaus Apotheke AG\n",
      "2021-06-14 Zürich, Apotheke Leimbach\n",
      "2021-06-15 Winterthur, Toppharm Apotheke Wülflingen AG\n",
      "2021-07-02 Uster, Dropa Drogerie Apotheke Illuster\n",
      "2021-07-30 Winterthur, Bahnhof Apotheke\n"
     ]
    }
   ],
   "source": [
    "for next in nextFirstDateLocations:\n",
    "    print(next['nextDateParsed'].strftime(\"%Y-%m-%d\") + \" \" + next['name'])"
   ]
  },
  {
   "cell_type": "code",
   "execution_count": 169,
   "metadata": {},
   "outputs": [
    {
     "name": "stdout",
     "output_type": "stream",
     "text": [
      "_Impfzentrum Triemli Zürich _Impfzentrum Triemli Zürich\n",
      "_Impfzentrum Messe Zürich _Impfzentrum Messe Zürich\n"
     ]
    }
   ],
   "source": [
    "nextSecondDateLocations = []\n",
    "for next in nextFirstDateLocations:\n",
    "    resp = doRequestSecondPerIdAndStart(next['locationId'], next['nextDate'])\n",
    "    if resp != '':\n",
    "        available = next.copy()\n",
    "        available['secondDate'] = resp['nextDate']\n",
    "        print(next['name'] + \" \" + next['name'])\n",
    "        nextSecondDateLocations.append(available)"
   ]
  },
  {
   "cell_type": "code",
   "execution_count": 170,
   "metadata": {
    "collapsed": true,
    "jupyter": {
     "outputs_hidden": true
    }
   },
   "outputs": [
    {
     "data": {
      "text/plain": [
       "[{'locationId': 'a16d2593-0c27-4a62-a471-0ca9ad98536c',\n",
       "  'name': '_Impfzentrum Triemli Zürich',\n",
       "  'nextDate': '2021-06-08T12:00:00',\n",
       "  'nextDateParsed': datetime.datetime(2021, 6, 8, 12, 0),\n",
       "  'secondDate': '2021-07-06T12:00:00'},\n",
       " {'locationId': 'b0893fdc-4e53-429e-a8a9-9b67f8159d60',\n",
       "  'name': '_Impfzentrum Messe Zürich',\n",
       "  'nextDate': '2021-06-08T12:00:00',\n",
       "  'nextDateParsed': datetime.datetime(2021, 6, 8, 12, 0),\n",
       "  'secondDate': '2021-07-06T12:00:00'}]"
      ]
     },
     "execution_count": 170,
     "metadata": {},
     "output_type": "execute_result"
    }
   ],
   "source": [
    "nextSecondDateLocations"
   ]
  }
 ],
 "metadata": {
  "kernelspec": {
   "display_name": "Python 3",
   "language": "python",
   "name": "python3"
  },
  "language_info": {
   "codemirror_mode": {
    "name": "ipython",
    "version": 3
   },
   "file_extension": ".py",
   "mimetype": "text/x-python",
   "name": "python",
   "nbconvert_exporter": "python",
   "pygments_lexer": "ipython3",
   "version": "3.8.6"
  }
 },
 "nbformat": 4,
 "nbformat_minor": 4
}
